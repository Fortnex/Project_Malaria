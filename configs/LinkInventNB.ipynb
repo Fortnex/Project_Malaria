{
 "cells": [
  {
   "cell_type": "markdown",
   "id": "cf02c6e7-1c74-4516-9969-7f79ad267518",
   "metadata": {},
   "source": [
    "## content in warhead\n",
    "\n",
    "# Example warhead file for REINVENT4 LinkInvent\r\n",
    "#\r\n",
    "# One warhead pair per line\r\n",
    "# Each warhead must be annotated with '*' to locate the attachment points\r\n",
    "# The two warheads must be separated by the pipe symbol\r\n",
    "\r\n",
    "c1ccn2c(n1)cnc2|C(*)NCCCCc1ccc(Oc2ccccc2(*))cc1\r\n",
    "\r\n"
   ]
  },
  {
   "cell_type": "markdown",
   "id": "7809e400-7ccd-4379-8f0b-e86f5e976b4d",
   "metadata": {},
   "source": [
    "Paper 1 - [*]C1C(C#N)CN1|[*]c1ncnc2[nH]\n",
    "Paper 2- N1=C(C*)C2N(C=C1)C=CC=N2|*CC1=COC=C1"
   ]
  },
  {
   "cell_type": "code",
   "execution_count": 38,
   "id": "3cc36dfe-30ee-48d8-834c-3ee2948566b3",
   "metadata": {},
   "outputs": [
    {
     "name": "stderr",
     "output_type": "stream",
     "text": [
      "17:07:44 <INFO> Started REINVENT 4.5.11 (C) AstraZeneca 2017, 2023 on 2025-06-23\n",
      "17:07:44 <INFO> Command line: C:\\Users\\andre\\anaconda3\\envs\\reinvent4\\lib\\site-packages\\reinvent\\__main__.py sampling.toml\n",
      "17:07:44 <INFO> Reading run configuration from C:\\Users\\andre\\OneDrive\\Desktop\\REINVENT4\\configs\\sampling.toml using format toml\n",
      "17:07:44 <INFO> User andre on host Andrews-Legion\n",
      "17:07:44 <INFO> Python version 3.10.18\n",
      "17:07:44 <INFO> PyTorch version 2.6.0+cu124, git 2236df1770800ffea5697b11b0bb0d910b2e59e1\n",
      "17:07:44 <INFO> PyTorch compiled with CUDA version 12.4\n",
      "17:07:44 <INFO> RDKit version 2025.03.3\n",
      "17:07:44 <INFO> Platform Windows-10-10.0.26100-SP0\n",
      "17:07:44 <INFO> Number of PyTorch CUDA devices 1\n",
      "17:07:44 <INFO> Using CUDA device:0 NVIDIA GeForce RTX 4060 Laptop GPU\n",
      "17:07:44 <INFO> GPU memory: 7099 MiB free, 8187 MiB total\n",
      "17:07:44 <INFO> Writing JSON config file to C:\\Users\\andre\\OneDrive\\Desktop\\REINVENT4\\configs\\_sampling.json\n",
      "17:07:44 <INFO> Starting Sampling\n",
      "17:07:45 <INFO> C:\\Users\\andre\\OneDrive\\Desktop\\REINVENT4\\configs\\priors\\linkinvent.prior has valid hash:\n",
      "{ 'comments': [],\n",
      "  'creation_date': 0,\n",
      "  'date_format': 'UNIX epoch',\n",
      "  'hash_id': '5792256bf6777dd630ed9ec66fbb4bbc',\n",
      "  'hash_id_format': 'xxhash.xxh3_128_hex 3.4.1',\n",
      "  'model_id': '775a89b0b0ee42aaa7ec189c16614b4d',\n",
      "  'model_id_format': 'uuid.uuid4 3.10.12',\n",
      "  'origina_data_source': 'ChEMBL 27',\n",
      "  'updates': []}\n",
      "17:07:45 <INFO> Number of network parameters: 23,682,594\n",
      "17:07:45 <INFO> Network architecture:\n",
      "EncoderDecoder(\n",
      "  (_encoder): Encoder(\n",
      "    (_embedding): Sequential(\n",
      "      (0): Embedding(34, 512)\n",
      "      (1): Dropout(p=0, inplace=False)\n",
      "    )\n",
      "    (_rnn): LSTM(512, 512, num_layers=3, batch_first=True, bidirectional=True)\n",
      "  )\n",
      "  (_decoder): Decoder(\n",
      "    (_embedding): Sequential(\n",
      "      (0): Embedding(34, 512)\n",
      "      (1): Dropout(p=0, inplace=False)\n",
      "    )\n",
      "    (_rnn): LSTM(512, 512, num_layers=3, batch_first=True)\n",
      "    (_attention): AttentionLayer(\n",
      "      (_attention_linear): Sequential(\n",
      "        (0): Linear(in_features=1024, out_features=512, bias=True)\n",
      "        (1): Tanh()\n",
      "      )\n",
      "    )\n",
      "    (_linear): Linear(in_features=512, out_features=34, bias=True)\n",
      "  )\n",
      ")\n",
      "17:07:45 <INFO> Using generator Linkinvent\n",
      "17:07:45 <INFO> Writing sampled SMILES to CSV file sampling.csv\n",
      "17:07:45 <INFO> Sampling 20000 SMILES from model priors/linkinvent.prior\n",
      "17:08:29 <INFO> Finished REINVENT on 2025-06-23\n"
     ]
    }
   ],
   "source": [
    "import sys\n",
    "!{sys.executable} -m reinvent sampling.toml"
   ]
  },
  {
   "cell_type": "code",
   "execution_count": 44,
   "id": "cfa0232d-3ea0-4bcf-a6ca-c8d6d56a462f",
   "metadata": {},
   "outputs": [
    {
     "name": "stderr",
     "output_type": "stream",
     "text": [
      "17:26:06 <INFO> Started REINVENT 4.5.11 (C) AstraZeneca 2017, 2023 on 2025-06-23\n",
      "17:26:06 <INFO> Command line: C:\\Users\\andre\\anaconda3\\envs\\reinvent4\\lib\\site-packages\\reinvent\\__main__.py my_scoring.toml\n",
      "17:26:06 <INFO> Reading run configuration from C:\\Users\\andre\\OneDrive\\Desktop\\REINVENT4\\configs\\my_scoring.toml using format toml\n",
      "17:26:06 <INFO> User andre on host Andrews-Legion\n",
      "17:26:06 <INFO> Python version 3.10.18\n",
      "17:26:06 <INFO> PyTorch version 2.6.0+cu124, git 2236df1770800ffea5697b11b0bb0d910b2e59e1\n",
      "17:26:06 <INFO> PyTorch compiled with CUDA version 12.4\n",
      "17:26:06 <INFO> RDKit version 2025.03.3\n",
      "17:26:06 <INFO> Platform Windows-10-10.0.26100-SP0\n",
      "17:26:06 <INFO> Number of PyTorch CUDA devices 1\n",
      "17:26:06 <INFO> Using CUDA device:0 NVIDIA GeForce RTX 4060 Laptop GPU\n",
      "17:26:06 <INFO> GPU memory: 7099 MiB free, 8187 MiB total\n",
      "17:26:06 <INFO> Writing JSON config file to C:\\Users\\andre\\OneDrive\\Desktop\\REINVENT4\\configs\\scoring_simple.json\n",
      "17:26:06 <INFO> Scoring SMILES from file C:\\Users\\andre\\OneDrive\\Desktop\\REINVENT4\\configs\\sampling.csv\n",
      "17:26:06 <INFO> Standardizing input SMILES\n",
      "17:26:06 <INFO> Applying filter get_largest_fragment to input SMILES\n",
      "17:26:06 <INFO> Applying filter general_cleanup to input SMILES\n",
      "17:26:06 <INFO> Stereochemistry kept in input SMILES\n",
      "Traceback (most recent call last):\n",
      "  File \"C:\\Users\\andre\\anaconda3\\envs\\reinvent4\\lib\\runpy.py\", line 196, in _run_module_as_main\n",
      "    return _run_code(code, main_globals, None,\n",
      "  File \"C:\\Users\\andre\\anaconda3\\envs\\reinvent4\\lib\\runpy.py\", line 86, in _run_code\n",
      "    exec(code, run_globals)\n",
      "  File \"C:\\Users\\andre\\anaconda3\\envs\\reinvent4\\lib\\site-packages\\reinvent\\__main__.py\", line 3, in <module>\n",
      "    main_script()\n",
      "  File \"C:\\Users\\andre\\anaconda3\\envs\\reinvent4\\lib\\site-packages\\reinvent\\Reinvent.py\", line 195, in main_script\n",
      "    main(args)\n",
      "  File \"C:\\Users\\andre\\anaconda3\\envs\\reinvent4\\lib\\site-packages\\reinvent\\Reinvent.py\", line 164, in main\n",
      "    runner(\n",
      "  File \"C:\\Users\\andre\\anaconda3\\envs\\reinvent4\\lib\\site-packages\\reinvent\\runmodes\\scoring\\run_scoring.py\", line 54, in run_scoring\n",
      "    reader = read_data(smiles_filename, actions=actions, smiles_column=smiles_column)\n",
      "  File \"C:\\Users\\andre\\anaconda3\\envs\\reinvent4\\lib\\site-packages\\reinvent\\runmodes\\scoring\\run_scoring.py\", line 182, in read_data\n",
      "    reader.read()\n",
      "  File \"C:\\Users\\andre\\anaconda3\\envs\\reinvent4\\lib\\site-packages\\reinvent\\runmodes\\scoring\\file_io.py\", line 55, in read\n",
      "    dialect = get_dialect(tabfile)\n",
      "  File \"C:\\Users\\andre\\anaconda3\\envs\\reinvent4\\lib\\site-packages\\reinvent\\runmodes\\scoring\\file_io.py\", line 110, in get_dialect\n",
      "    line = csvfile.read(4096)\n",
      "  File \"C:\\Users\\andre\\anaconda3\\envs\\reinvent4\\lib\\encodings\\cp1252.py\", line 23, in decode\n",
      "    return codecs.charmap_decode(input,self.errors,decoding_table)[0]\n",
      "UnicodeDecodeError: 'charmap' codec can't decode byte 0x8d in position 639: character maps to <undefined>\n"
     ]
    }
   ],
   "source": [
    "import sys\n",
    "!{sys.executable} -m reinvent my_scoring.toml"
   ]
  },
  {
   "cell_type": "code",
   "execution_count": 3,
   "id": "be7cdf94-8a51-4fbc-a1b0-e0c7f1a97ffc",
   "metadata": {},
   "outputs": [
    {
     "name": "stdout",
     "output_type": "stream",
     "text": [
      "✅ Filtered 1502 molecules out of 9429 total.\n"
     ]
    }
   ],
   "source": [
    "import pandas as pd\n",
    "\n",
    "# Load dataset\n",
    "df = pd.read_csv('scoring_results.csv')  # <-- use your actual file name\n",
    "\n",
    "# Start with a copy\n",
    "filtered = df.copy()\n",
    "\n",
    "# Only apply Tanimoto filter if the column exists in the file\n",
    "if 'Tanimoto' in filtered.columns:\n",
    "    filtered = filtered[filtered['Tanimoto'] >= 0.6]\n",
    "\n",
    "# Remove Input_SMILES column if it exists\n",
    "if 'Input_SMILES' in filtered.columns:\n",
    "    filtered = filtered.drop(columns=['Input_SMILES'])\n",
    "\n",
    "# Apply property filters (independent of Tanimoto)\n",
    "filtered = filtered[\n",
    "    (filtered['Molecular weight'] <= 550) &\n",
    "    (filtered['QED'] >= 0.75) &\n",
    "    (filtered['SA score'] <= 4) &\n",
    "    (filtered['SlogP (RDKit)'] >= -1) &\n",
    "    (filtered['SlogP (RDKit)'] <= 5)\n",
    "]\n",
    "\n",
    "print(f\"✅ Filtered {len(filtered)} molecules out of {len(df)} total.\")\n",
    "\n",
    "# Save output\n",
    "filtered.to_csv('filtered_scoring_results.csv', index=False)"
   ]
  },
  {
   "cell_type": "code",
   "execution_count": 4,
   "id": "e2ab4513-a56d-4a67-af09-5397d4b8d06c",
   "metadata": {},
   "outputs": [],
   "source": [
    "import pandas as pd\n",
    "from rdkit import Chem\n",
    "from rdkit.Chem import Draw\n",
    "from PIL import Image\n",
    "import numpy as np\n",
    "\n",
    "# Load molecules\n",
    "df = pd.read_csv(\"filtered_scoring_results.csv\")\n",
    "smiles_list = df[\"SMILES\"].tolist()\n",
    "mols = [Chem.MolFromSmiles(smi) for smi in smiles_list if Chem.MolFromSmiles(smi)]\n",
    "\n",
    "# Split into chunks of N molecules per page\n",
    "def chunks(lst, n):\n",
    "    for i in range(0, len(lst), n):\n",
    "        yield lst[i:i + n]\n",
    "\n",
    "pages = list(chunks(mols, 20))  # 20 mols per page\n",
    "\n",
    "images = []\n",
    "for chunk in pages:\n",
    "    img_array = Draw.MolsToGridImage(\n",
    "        chunk,\n",
    "        molsPerRow=4,\n",
    "        subImgSize=(300, 300),\n",
    "        useSVG=False,\n",
    "        returnPNG=False  # Important: this returns a numpy array\n",
    "    )\n",
    "    # Convert RDKit image (PIL or array) to actual PIL Image\n",
    "    pil_img = img_array if isinstance(img_array, Image.Image) else Image.fromarray(np.array(img_array))\n",
    "    images.append(pil_img.convert(\"RGB\"))\n",
    "\n",
    "# Save to PDF\n",
    "if images:\n",
    "    images[0].save(\"molecule_grid.pdf\", save_all=True, append_images=images[1:])\n"
   ]
  },
  {
   "cell_type": "code",
   "execution_count": null,
   "id": "69d06053-c57d-44ee-9148-4d72991c87a7",
   "metadata": {},
   "outputs": [],
   "source": []
  }
 ],
 "metadata": {
  "kernelspec": {
   "display_name": "reinvent4",
   "language": "python",
   "name": "reinvent4"
  },
  "language_info": {
   "codemirror_mode": {
    "name": "ipython",
    "version": 3
   },
   "file_extension": ".py",
   "mimetype": "text/x-python",
   "name": "python",
   "nbconvert_exporter": "python",
   "pygments_lexer": "ipython3",
   "version": "3.10.18"
  }
 },
 "nbformat": 4,
 "nbformat_minor": 5
}
